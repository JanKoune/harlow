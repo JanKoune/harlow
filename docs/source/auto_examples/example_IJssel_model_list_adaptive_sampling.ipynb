{
  "cells": [
    {
      "cell_type": "code",
      "execution_count": null,
      "metadata": {
        "collapsed": false
      },
      "outputs": [],
      "source": [
        "%matplotlib inline"
      ]
    },
    {
      "cell_type": "markdown",
      "metadata": {},
      "source": [
        "\nAlso check:\n\nhttps://www.sciencedirect.com/science/article/pii/S002199911630184X\nhttps://github.com/PredictiveScienceLab/py-aspgp\n"
      ]
    },
    {
      "cell_type": "code",
      "execution_count": null,
      "metadata": {
        "collapsed": false
      },
      "outputs": [],
      "source": [
        "import numpy as np\nimport torch\nfrom sklearn.metrics import mean_squared_error\n\nfrom harlow.helper_functions import latin_hypercube_sampling\nfrom harlow.probabilistic_sampling import Probabilistic_sampler\nfrom harlow.surrogate_model import ModelListGaussianProcess\nfrom model.model_twin_girder_betti import IJssel_bridge_model  # noqa: I201\n\n# from matplotlib import pyplot as plt\n\n\n# ====================================================================\n# HELPER FUNCTIONS\n# ====================================================================\n\n\ndef create_test_set(min_domain, max_domain, n):\n\n    test_X = latin_hypercube_sampling(min_domain, max_domain, n)\n    test_y = response(test_X, sensor_positions)\n\n    return torch.tensor(test_X).float(), torch.tensor(test_y).float()\n\n\ndef rmse(x, y):\n\n    list_rmse = []\n    for xi, yi in zip(x, y.T):\n        list_rmse.append(mean_squared_error(xi, yi, squared=False))\n    return np.max(list_rmse)\n\n\ndef get_param_idx(params_dict):\n    return {key: idx_key for idx_key, key in enumerate(params_dict)}\n\n\n# ====================================================================\n# SURROGATING PARAMETERS\n# ====================================================================\nN_train = 10\nN_test = 50\nN_pred = 50\nN_max_iter = 1000\nN_update = 100\nrmse_criterium = 0.1\nmin_loss_rate = 0.001\n\n# ====================================================================\n# INITIALIZE MODEL\n# ====================================================================\n# Set model parameters\nmeas_type = \"fugro\"\nE = 210e6\nmax_elem_length = 2.0 * 1e3\n\n# Sensor names and positions\nsensor_names = [\"H1_S\", \"H2_S\", \"H3_S\", \"H4_S\", \"H5_S\", \"H7_S\", \"H8_S\", \"H9_S\", \"H10_S\"]\nsensor_positions = [\n    20.42,\n    34.82,\n    47.700,\n    61.970,\n    68.600,\n    96.800,\n    113.9,\n    123.900,\n    147.500,\n]\nN_tasks = len(sensor_positions)\n\n# All parameters. This is the order that parameters will be expcted in\n# within the various functions in this scr\u00edpt (e.g. model response function)\nparams_all = [\"Kr1\", \"Kr2\", \"Kr3\", \"Kr4\", \"Kv\"]\n\n# Parameters that are shared between models\nparams_common = [\n    \"Kv\",\n]\n\n# Parameters that are not shared by all models\nparams_model = {\n    \"H1_S\": [\"Kr1\", \"Kr2\"],\n    \"H2_S\": [\"Kr1\", \"Kr2\"],\n    \"H3_S\": [\"Kr1\", \"Kr2\"],\n    \"H4_S\": [\"Kr2\", \"Kr3\"],\n    \"H5_S\": [\"Kr2\", \"Kr3\"],\n    \"H7_S\": [\"Kr2\", \"Kr3\"],\n    \"H8_S\": [\"Kr3\", \"Kr4\"],\n    \"H9_S\": [\"Kr3\", \"Kr4\"],\n    \"H10_S\": [\"Kr3\", \"Kr4\"],\n}\n\n# Define FE models and append to list\nmodels_dict = {\n    idx_model: IJssel_bridge_model(\n        sname, E, max_elem_length=max_elem_length, truck_load=meas_type\n    )\n    for idx_model, sname in enumerate(sensor_names)\n}\nnode_xs = models_dict[0].node_xs\n\n# # ====================================================================\n# # DOMAIN BOUNDS\n# # ====================================================================\n\n# Prior for first support rotational stiffness Kr1\nKr_low = 4.0\nKr_high = 10.0\n\n# Ground truth and prior for K-brace spring vertical stiffness\nKv_low = 0.0\nKv_high = 8.0\n\nc = -0.1754\n\n# Bounds of the time domain\nt_low = np.min(node_xs)\nt_high = np.max(node_xs)\n\nparams_priors = {\n    \"Kv\": {\"dist\": \"uniform\", \"low\": Kv_low, \"high\": Kv_high},\n    \"Kr1\": {\"dist\": \"uniform\", \"low\": Kr_low, \"high\": Kr_high},\n    \"Kr2\": {\"dist\": \"uniform\", \"low\": Kr_low, \"high\": Kr_high},\n    \"Kr3\": {\"dist\": \"uniform\", \"low\": Kr_low, \"high\": Kr_high},\n    \"Kr4\": {\"dist\": \"uniform\", \"low\": Kr_low, \"high\": Kr_high},\n}\n\n# Create domain bounds\ndomain_lower_bound = np.array([params_priors[param][\"low\"] for param in params_all])\ndomain_upper_bound = np.array([params_priors[param][\"high\"] for param in params_all])\n\n# Indices of all params\nparam_idx = get_param_idx(params_all)\n\n# Build list of parameter indices per model\nlist_params = [\n    [param_idx[param] for param in params_model[key] + params_common]\n    for key in params_model.keys()\n]\n\n\n# # ====================================================================\n# # MODEL FUNCTION\n# # ====================================================================\ndef response(X, pts):\n\n    # Initialize\n    X = np.atleast_2d(X)\n    N_x = X.shape[0]\n    N_y = len(pts)\n    res = np.zeros((N_x, N_y))\n\n    print(f\"Evaluating response function at {N_x} points for {N_y} outputs\")\n\n    # Iterate over parameter array\n    for idx_x, x in enumerate(X):\n        Kr1 = x[param_idx[\"Kr1\"]]\n        Kr2 = x[param_idx[\"Kr2\"]]\n        Kr3 = x[param_idx[\"Kr3\"]]\n        Kr4 = x[param_idx[\"Kr4\"]]\n        Kv = x[param_idx[\"Kv\"]]\n\n        # Rotational stiffness input array\n        arr_Kr = np.repeat(np.array([Kr1, Kr2, Kr3, Kr4]), 2)\n        arr_Kr = np.append(arr_Kr, np.zeros(4))\n\n        # Iterate over models and evaluate\n        for idx_t, model_key in enumerate(models_dict.keys()):\n\n            # Get model and prediction t\n            t = pts[idx_t]\n            model = models_dict[model_key]\n\n            # Evaluate each model in list\n            res[idx_x, idx_t] = np.interp(\n                t,\n                model.node_xs,\n                model.il_stress_truckload(c, lane=\"left\", Kr=10 ** arr_Kr, Kv=10 ** Kv),\n            )\n\n    return res\n\n\n# Model function taking only X as input, to be passed to the sampler.\ndef func_model(X):\n    return response(X, sensor_positions)\n\n\n# ====================================================================\n# GENERATE TEST AND TRAIN DATA\n# ====================================================================\n# Each column of train_Y corresponds to one GP\ntrain_X, train_y = create_test_set(domain_lower_bound, domain_upper_bound, N_train)\ntest_X, test_y = create_test_set(domain_lower_bound, domain_upper_bound, N_test)\n\n# To check surrogate updating\nupdate_X, update_y = create_test_set(domain_lower_bound, domain_upper_bound, N_update)\n\n# ====================================================================\n# DEFINE SURROGATE\n# ====================================================================\n\nsurrogate = ModelListGaussianProcess(\n    # torch.cat([train_X, update_X], dim=0),\n    # torch.cat([train_y, update_y], dim=0),\n    train_X,\n    train_y,\n    model_names=sensor_names,\n    list_params=list_params,\n    training_max_iter=N_max_iter,\n    min_loss_rate=min_loss_rate,\n    show_progress=True,\n    silence_warnings=True,\n)\n\n# ====================================================================\n# DEFINE SAMPLER\n# ====================================================================\n\nps = Probabilistic_sampler(\n    target_function=func_model,\n    surrogate_model=surrogate,\n    domain_lower_bound=domain_lower_bound,\n    domain_upper_bound=domain_upper_bound,\n    fit_points_x=train_X,\n    fit_points_y=train_y,\n    test_points_x=test_X,\n    test_points_y=test_y,\n    evaluation_metric=rmse,\n)\n\nps.sample(\n    n_iter=None,\n    n_initial_point=N_train,\n    stopping_criterium=rmse_criterium,\n)\n\n\n#\n# # ====================================================================\n# # FIT\n# # ====================================================================\n# #surrogate.fit(train_X, train_y)\n#\n# # ====================================================================\n# # UPDATE\n# # ====================================================================\n# #surrogate.update(update_X, update_y)\n#\n# # ====================================================================\n# # SURROGATE PREDICT\n# # ====================================================================\n#\n# # Tensor of prediction points\n# vec_Kv = np.linspace(Kv_low, Kv_high, N_pred)\n# pred_X = np.tile(np.array([7.0, 7.0, 7.0, 7.0]), (N_pred, 1))\n# pred_X = np.hstack((pred_X, vec_Kv.reshape(-1, 1)))\n# pred_X = torch.tensor(pred_X).float()\n#\n# # Physical model prediction\n# true_y = response(pred_X, sensor_positions)\n#\n# # Surrogate model prediction\n# pred_y = surrogate.predict(pred_X, return_std = False)\n#\n# # Initialize plots\n# nrows = 3\n# ncols = int(np.ceil(N_tasks/3))\n# f, axes = plt.subplots(nrows, ncols, figsize=(3 * ncols, 3 * nrows))\n#\n# for idx, ax_i in enumerate(axes.ravel()):\n#\n#     mean_i = surrogate.mean[idx]\n#     upper_i = surrogate.upper[idx]\n#     lower_i = surrogate.lower[idx]\n#\n#     grid_idx = np.unravel_index(idx, (nrows, ncols))\n#\n#     train_X_i = surrogate.model.train_inputs[idx][0].detach().numpy()\n#     train_y_i = surrogate.model.train_targets[idx].detach().numpy()\n#\n#     # Plot training data as black stars\n#     ax_i.plot(train_X[:, -1], train_y[:, idx], 'k*', label = \"Observations\")\n#\n#     # Predictive mean as blue line\n#     ax_i.plot(pred_X[:, -1].numpy(), mean_i.numpy(), 'b', label = \"Mean\")\n#\n#     # Shade in confidence\n#     ax_i.fill_between(\n#     pred_X[:, -1].numpy(),\n#     lower_i.detach().numpy(),\n#     upper_i.detach().numpy(),\n#     alpha=0.5,\n#     label = \"Confidence\"\n#     )\n#     ax_i.plot(\n#     pred_X[:, -1].numpy(),\n#     true_y[:, idx],\n#     color=\"red\",\n#     linestyle=\"dashed\",\n#     label = \"Model\"\n#     )\n#     ax_i.set_title(f\"Sensor: {sensor_names[idx]}\")\n#\n# axes[0,0].legend()"
      ]
    }
  ],
  "metadata": {
    "kernelspec": {
      "display_name": "Python 3",
      "language": "python",
      "name": "python3"
    },
    "language_info": {
      "codemirror_mode": {
        "name": "ipython",
        "version": 3
      },
      "file_extension": ".py",
      "mimetype": "text/x-python",
      "name": "python",
      "nbconvert_exporter": "python",
      "pygments_lexer": "ipython3",
      "version": "3.8.6"
    }
  },
  "nbformat": 4,
  "nbformat_minor": 0
}
